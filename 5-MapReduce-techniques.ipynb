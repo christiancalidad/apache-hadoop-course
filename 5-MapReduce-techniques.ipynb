{
 "cells": [
  {
   "cell_type": "markdown",
   "metadata": {},
   "source": [
    "Hadoop/MapReduce -- Ejercicios\n",
    "===\n",
    "\n",
    "**Juan David Velásquez Henao**  \n",
    "jdvelasq@unal.edu.co   \n",
    "Universidad Nacional de Colombia, Sede Medellín  \n",
    "Facultad de Minas  \n",
    "Medellín, Colombia\n",
    "\n",
    "---\n",
    "\n",
    "Haga click [aquí](https://github.com/jdvelasq/big-data-analytics/tree/master/) para acceder al repositorio online.\n",
    "\n",
    "Haga click [aquí](http://nbviewer.jupyter.org/github/jdvelasq/big-data-analytics/tree/master/) para explorar el repositorio usando `nbviewer`."
   ]
  },
  {
   "cell_type": "markdown",
   "metadata": {},
   "source": [
    "---"
   ]
  },
  {
   "cell_type": "markdown",
   "metadata": {},
   "source": [
    "# Introducción\n",
    "\n",
    "Existen distintos tipos de cómputos que se realizan frecuentemente usando sistemas de gestión de datos; estos tipos pueden ser agrupados en categorías de acuerdo con el patrón del algoritmo usado para su solución. Estos patrones requieren el uso de claves o valores con estructuras más complejas. En la primera parte se discuten los elementos básicos sobre la construcción de claves o valores más complejos; en la segunda parte se presentan ejercicios que permiten ejemplificar cada tipo de patrón. "
   ]
  },
  {
   "cell_type": "markdown",
   "metadata": {},
   "source": [
    "---"
   ]
  },
  {
   "cell_type": "markdown",
   "metadata": {},
   "source": [
    "# Construcción de clave y valores compuestos (o complejos)"
   ]
  },
  {
   "cell_type": "markdown",
   "metadata": {},
   "source": [
    "Uno de los elementos claves en la construcción de aplicaciones en Big Data es el procesamiento de datos donde los valores y las claves pueden ser una estructura de datos. El proceso de conversión entre datos procesables por Hadoop (o Spark) y Python (o el lenguaje de programación que se este usando) se conoce como *serialization* y *deserialization*. A continuación se presentan ejempos de la conversión de diferentes representaciones. "
   ]
  },
  {
   "cell_type": "code",
   "execution_count": 1,
   "metadata": {},
   "outputs": [
    {
     "name": "stdout",
     "output_type": "stream",
     "text": [
      "(12, 17, 23)\t128.3\n"
     ]
    }
   ],
   "source": [
    "##\n",
    "## Se requiere una clave compuesta que agrupa tres\n",
    "## campos diferentes del a entrada. Como estrategia\n",
    "## se usa una tupla para la clave. Para generar \n",
    "## la salida del mapper, la tupla se convierte \n",
    "## directamente a un string.\n",
    "##\n",
    "key = (12, 17, 23) ## clave compuesta\n",
    "value = 128.3      ## valor asociado a la clave\n",
    "##\n",
    "## emisión del mapper:\n",
    "##\n",
    "print(\"{}\\t{}\".format(str(key), value))"
   ]
  },
  {
   "cell_type": "code",
   "execution_count": 2,
   "metadata": {},
   "outputs": [
    {
     "name": "stdout",
     "output_type": "stream",
     "text": [
      "['(12, 17, 23)', '128.3']\n"
     ]
    }
   ],
   "source": [
    "##\n",
    "## El reducer convierte nuevamente el string\n",
    "## en una tupla.\n",
    "##\n",
    "\n",
    "## esto es lo que lee el reducer en el flujo de entrada\n",
    "txt = \"{}\\t{}\".format(str(key), value) \n",
    "\n",
    "txt = txt.split(\"\\t\")\n",
    "print(txt)"
   ]
  },
  {
   "cell_type": "code",
   "execution_count": 3,
   "metadata": {},
   "outputs": [
    {
     "data": {
      "text/plain": [
       "(12, 17, 23)"
      ]
     },
     "execution_count": 3,
     "metadata": {},
     "output_type": "execute_result"
    }
   ],
   "source": [
    "key = eval(txt[0])\n",
    "key"
   ]
  },
  {
   "cell_type": "code",
   "execution_count": 4,
   "metadata": {},
   "outputs": [
    {
     "data": {
      "text/plain": [
       "tuple"
      ]
     },
     "execution_count": 4,
     "metadata": {},
     "output_type": "execute_result"
    }
   ],
   "source": [
    "## note que la conversión es correcta\n",
    "type(key)"
   ]
  },
  {
   "cell_type": "markdown",
   "metadata": {},
   "source": [
    "Este proceso también puede realizarse para los valores asociados a una clave."
   ]
  },
  {
   "cell_type": "markdown",
   "metadata": {},
   "source": [
    "# Pairs / Stripes"
   ]
  },
  {
   "cell_type": "markdown",
   "metadata": {},
   "source": [
    "Son dos estrategias para representar matrices y estructuras similares. Suponga que se tiene la siguiente secuencia de letras:\n",
    "```\n",
    "a b c c b c\n",
    "```\n",
    "\n",
    "La matriz de co-ocurrencias sería la siguiente (representación como pairs):\n",
    "  \n",
    "    (a, b), 2\n",
    "    (a, c), 3\n",
    "    (b, a), 2\n",
    "    (b, b), 1\n",
    "    (b, c), 6  \n",
    "    (c, a), 3\n",
    "    (c, b), 6\n",
    "    (c, c), 6\n",
    "\n",
    "La representación como stripes es la siguiente:\n",
    "\n",
    "    a, ((b, 2), (c, 3))\n",
    "    b, ((a, 2), (b, 1), (c, 6))\n",
    "    c, ((a, 3), (b, 6), (c, 6))\n",
    "    "
   ]
  },
  {
   "cell_type": "markdown",
   "metadata": {},
   "source": [
    "# Patrones de resumen\n",
    "\n",
    "El archivo `data/flights.tsv` contiene información sobre los vuelos realizados en diferentes aeropuestos en EEUU. Las columnas son las siguientes:\n",
    "\n",
    "* Fecha del vuelo.\n",
    "* ID de la aerolínea.\n",
    "* Número del vuelo.\n",
    "* Aeropuestos de origen y destino.\n",
    "* Hola de salida.\n",
    "* Tiempo de retrazo en minutos.\n",
    "* Tiempo en el aire.\n",
    "* Distancia total en millas.\n",
    "\n",
    "Usando la información anterior, realice los siguientes ejercicios."
   ]
  },
  {
   "cell_type": "markdown",
   "metadata": {},
   "source": [
    "**Ejercicio (record count).--** Calcule el número de registros por cada aeropuerto.\n",
    "\n",
    "**Ejercicio (record count).--** Calcule el número de registros por cada mes.\n",
    "\n",
    "**Ejercicio (min/max/count).--** Calcule el retrazo mínimo y máximo en cada aeropuerto. `data/flights.tsv`. \n",
    "\n",
    "**Ejercicio (avg/median/sd).--** Calcule la media y la desviación estándar de los retrasos por aeropuerto.\n",
    "\n",
    "**Ejercicio (Sort).--** Ordene el archivo por retrazos.\n",
    "\n",
    "**Ejercicio (Sort).--** Ordene el archivo por aeropuerto y por retrazos.\n",
    "\n",
    "**Ejercicio (Top K).--** Encuentre los 10 mayores retrazos.\n",
    "\n",
    "**Ejercicio (Top K).--** Encuentre los 10 mayores retrazos por aeropuerto."
   ]
  },
  {
   "cell_type": "markdown",
   "metadata": {},
   "source": [
    "---"
   ]
  },
  {
   "cell_type": "markdown",
   "metadata": {},
   "source": [
    "El archivo `data/scopus.csv` contiene información bibliográfica sobre un conjunto de artículos publicados. La información del archivo es la siguiente:\n",
    "\n",
    "* Authors.\n",
    "* Title.\n",
    "* Year.\n",
    "* Source title.\n",
    "* Volume.\n",
    "* Issue.\n",
    "* Art. No.\n",
    "* Page start.\n",
    "* Page end.\n",
    "* Page count.\n",
    "* Cited by. \n",
    "* DOI.\n",
    "* Link. \n",
    "* Author Keywords.\n",
    "* Index Keywords.\n",
    "* Language of Original Document.\n",
    "* Document Type.\n",
    "* Access Type.\n",
    "* Source.\n",
    "* EID.\n",
    "\n",
    "Use este archivo resolver los siguientes ejercicios."
   ]
  },
  {
   "cell_type": "markdown",
   "metadata": {},
   "source": [
    "**Ejercicio (Sort).--** Organice el archivo por cantidad de citas."
   ]
  },
  {
   "cell_type": "markdown",
   "metadata": {},
   "source": [
    "**Ejercicio (Inverted Index).--**  Con el fin de agilizar la búsqueda sobre el sistema, se desea construir un índice inverso basado en las palabras claves del documento (columnas `Author Keywords` e `Index Keywords`. Un índice inverso consiste en una clave (Author Keywords / Index Keywords) y los documentos asociados (DOI). *Sugerencia.* En este tipo de problemas, el mapper retorna los campos deseados como clave y un identificador único como valor. El reducer genera la clave y una lista de identificadores únicos."
   ]
  },
  {
   "cell_type": "markdown",
   "metadata": {},
   "source": [
    "**Ejercicio (Bloom Filtering).--** Obtenga el subconjunto de artículos que contienen las mismas palabras claves que los diez artículos más citados."
   ]
  },
  {
   "cell_type": "markdown",
   "metadata": {},
   "source": [
    "**Ejercicio (Distinct).--** Obtenga un listado de las revistas (Sources) en que se publicaron artículos (valores únicos)."
   ]
  },
  {
   "cell_type": "markdown",
   "metadata": {},
   "source": [
    "**Ejercicio (Shuffling).--** Reordene el archivo de forma aleatoria."
   ]
  },
  {
   "cell_type": "markdown",
   "metadata": {},
   "source": [
    "---"
   ]
  },
  {
   "cell_type": "markdown",
   "metadata": {},
   "source": [
    "**Ejercicio.--** El archivo `NYSE-dividends`  contiene las siguientes columnas: bolsa de Valores, acción (stock ticker symbol), fecha, dividendo. Compute el dividendo promedio por acción y ordenelo de mayor a menor.."
   ]
  },
  {
   "cell_type": "markdown",
   "metadata": {},
   "source": [
    "**Ejercicio.--** Para el archivo del ejercicio anterior, calcule el dividendo promedio por mes para cada acción."
   ]
  },
  {
   "cell_type": "markdown",
   "metadata": {},
   "source": [
    "**Ejercicio.--** El archivo `NYSE_daily` contiene los siguientes campos: bolsa, símbolo, fecha, precio de apertura (open), precio más alto (high), precio más bajo (low), precio de cierre (close), volumen (vol) y precio de cierre ajustado (adj_close). Genere columnas con los siguientes calculos:\n",
    "\n",
    "* Diferencia entre el precio de cierre y el precio de apertura.\n",
    "\n",
    "\n",
    "* Diferencia entre el precio más alto y el más bajo."
   ]
  },
  {
   "cell_type": "markdown",
   "metadata": {},
   "source": [
    "---"
   ]
  },
  {
   "cell_type": "markdown",
   "metadata": {},
   "source": [
    "Hadoop/MapReduce -- Ejercicios\n",
    "===\n",
    "\n",
    "**Juan David Velásquez Henao**  \n",
    "jdvelasq@unal.edu.co   \n",
    "Universidad Nacional de Colombia, Sede Medellín  \n",
    "Facultad de Minas  \n",
    "Medellín, Colombia\n",
    "\n",
    "---\n",
    "\n",
    "Haga click [aquí](https://github.com/jdvelasq/big-data-analytics/tree/master/) para acceder al repositorio online.\n",
    "\n",
    "Haga click [aquí](http://nbviewer.jupyter.org/github/jdvelasq/big-data-analytics/tree/master/) para explorar el repositorio usando `nbviewer`."
   ]
  }
 ],
 "metadata": {
  "kernelspec": {
   "display_name": "Python 3",
   "language": "python",
   "name": "python3"
  },
  "language_info": {
   "codemirror_mode": {
    "name": "ipython",
    "version": 3
   },
   "file_extension": ".py",
   "mimetype": "text/x-python",
   "name": "python",
   "nbconvert_exporter": "python",
   "pygments_lexer": "ipython3",
   "version": "3.6.5"
  }
 },
 "nbformat": 4,
 "nbformat_minor": 2
}
